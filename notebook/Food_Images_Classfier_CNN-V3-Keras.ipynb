{
 "cells": [
  {
   "cell_type": "code",
   "execution_count": 91,
   "metadata": {
    "collapsed": false
   },
   "outputs": [],
   "source": [
    "import tensorflow as tf\n",
    "import h5py\n",
    "import numpy as np\n",
    "import pandas as pd\n",
    "import matplotlib.pyplot as plt\n",
    "from keras.utils import HDF5Matrix \n",
    "from keras.layers import Conv2D,MaxPool2D,Dropout,BatchNormalization,Dense,MaxPool1D,ZeroPadding2D,Flatten\n",
    "from keras.models import Sequential\n",
    "from keras import backend as K\n",
    "K.set_image_dim_ordering('tf')\n",
    "%matplotlib inline"
   ]
  },
  {
   "cell_type": "code",
   "execution_count": 36,
   "metadata": {
    "collapsed": false
   },
   "outputs": [],
   "source": [
    "#f= h5py.File('Train/food_c101_n1000_r384x384x3.h5','r')"
   ]
  },
  {
   "cell_type": "code",
   "execution_count": 3,
   "metadata": {
    "collapsed": false
   },
   "outputs": [],
   "source": [
    "xtrain=HDF5Matrix('Train/food_c101_n10099_r32x32x1.h5','images')\n",
    "ytrain=HDF5Matrix('Train/food_c101_n10099_r32x32x1.h5','category')"
   ]
  },
  {
   "cell_type": "code",
   "execution_count": 4,
   "metadata": {
    "collapsed": false
   },
   "outputs": [
    {
     "name": "stdout",
     "output_type": "stream",
     "text": [
      "xtrain shape is:  (10099, 32, 32, 1) , ytrain shape is:  (10099, 101)\n"
     ]
    }
   ],
   "source": [
    "print ('xtrain shape is: ',xtrain.shape,', ytrain shape is: ',ytrain.shape)"
   ]
  },
  {
   "cell_type": "code",
   "execution_count": 152,
   "metadata": {
    "collapsed": false
   },
   "outputs": [],
   "source": [
    "im_train=h5py.File('Train/food_c101_n10099_r32x32x1.h5','r')"
   ]
  },
  {
   "cell_type": "code",
   "execution_count": 155,
   "metadata": {
    "collapsed": false
   },
   "outputs": [
    {
     "data": {
      "text/plain": [
       "<matplotlib.image.AxesImage at 0x1afa5eb8>"
      ]
     },
     "execution_count": 155,
     "metadata": {},
     "output_type": "execute_result"
    },
    {
     "data": {
      "image/png": "[encoded data removed]",
      "text/plain": [
       "<matplotlib.figure.Figure at 0x1a204b00>"
      ]
     },
     "metadata": {},
     "output_type": "display_data"
    }
   ],
   "source": [
    "plt.imshow(im_train['images'][7][:,:,0],cmap = 'gray')"
   ]
  },
  {
   "cell_type": "code",
   "execution_count": 6,
   "metadata": {
    "collapsed": false
   },
   "outputs": [],
   "source": [
    "#xtrain=np.asarray(xtrain,dtype='float32')"
   ]
  },
  {
   "cell_type": "code",
   "execution_count": 7,
   "metadata": {
    "collapsed": true
   },
   "outputs": [],
   "source": [
    "#ytrain=np.asarray(ytrain,dtype='float32')"
   ]
  },
  {
   "cell_type": "code",
   "execution_count": 52,
   "metadata": {
    "collapsed": false
   },
   "outputs": [],
   "source": [
    "xtest=HDF5Matrix('Test/food_test_c101_n1000_r32x32x1.h5','images')\n",
    "ytest=HDF5Matrix('Test/food_test_c101_n1000_r32x32x1.h5','category')"
   ]
  },
  {
   "cell_type": "code",
   "execution_count": 53,
   "metadata": {
    "collapsed": false
   },
   "outputs": [
    {
     "name": "stdout",
     "output_type": "stream",
     "text": [
      "xtest shape is:  (1000, 32, 32, 1) , ytest shape is:  (1000, 101)\n"
     ]
    }
   ],
   "source": [
    "print ('xtest shape is: ',xtest.shape,', ytest shape is: ',ytest.shape)"
   ]
  },
  {
   "cell_type": "code",
   "execution_count": 10,
   "metadata": {
    "collapsed": true
   },
   "outputs": [],
   "source": [
    "#xtest=np.asarray(xtest,dtype='float32')\n",
    "#ytest=np.asarray(ytest,dtype='float32')"
   ]
  },
  {
   "cell_type": "code",
   "execution_count": 11,
   "metadata": {
    "collapsed": false
   },
   "outputs": [],
   "source": [
    "category_type=HDF5Matrix('Test/food_test_c101_n1000_r32x32x1.h5','category_names')"
   ]
  },
  {
   "cell_type": "markdown",
   "metadata": {},
   "source": [
    "scale the data  "
   ]
  },
  {
   "cell_type": "code",
   "execution_count": 10,
   "metadata": {
    "collapsed": false
   },
   "outputs": [],
   "source": [
    "xtrain_scaled=xtrain/255\n",
    "xtest_scaled=xtest/255"
   ]
  },
  {
   "cell_type": "markdown",
   "metadata": {},
   "source": [
    "# Network params"
   ]
  },
  {
   "cell_type": "code",
   "execution_count": 11,
   "metadata": {
    "collapsed": true
   },
   "outputs": [],
   "source": [
    "n_channel=1\n",
    "n_width=32\n",
    "n_heght=32\n",
    "n_output=101"
   ]
  },
  {
   "cell_type": "code",
   "execution_count": 68,
   "metadata": {
    "collapsed": true
   },
   "outputs": [],
   "source": [
    "n_cov1_filter=32\n",
    "n_cov2_filter=64\n",
    "n_cov3_filter=64\n",
    "\n",
    "n_kernel_1=(5,5)\n",
    "n_kernel_2=(4,4)\n",
    "n_kernel_3=(3,3)\n",
    "\n",
    "drop_out_1=0.4\n",
    "drop_out_2=0.6\n",
    "\n",
    "n_dense_1=256\n",
    "\n",
    "img_rows=xtrain.shape[1]\n",
    "img_cols=xtrain.shape[2]\n",
    "channel=xtrain.shape[3]"
   ]
  },
  {
   "cell_type": "markdown",
   "metadata": {},
   "source": [
    "CNN Layers"
   ]
  },
  {
   "cell_type": "code",
   "execution_count": 75,
   "metadata": {
    "collapsed": false
   },
   "outputs": [],
   "source": [
    "model=Sequential()\n",
    "\n",
    "\n",
    "\n",
    "model.add(ZeroPadding2D((1, 1), input_shape=(img_rows, img_cols, channel)))\n",
    "model.add(Conv2D(n_cov1_filter,n_kernel_1,strides=(1,1),padding='same',activation='relu'))\n",
    "model.add(Conv2D(n_cov1_filter,n_kernel_1,strides=(1,1),padding='same',activation='relu'))\n",
    "model.add(MaxPool2D(pool_size=(2,2)))\n",
    "model.add(Dropout(drop_out_1))\n",
    "\n",
    "model.add(Conv2D(n_cov2_filter,n_kernel_2,strides=(1,1),padding='same',activation='relu'))\n",
    "model.add(Conv2D(n_cov2_filter,n_kernel_2,strides=(1,1),padding='same',activation='relu'))\n",
    "model.add(MaxPool2D(pool_size=(2,2)))\n",
    "model.add(Dropout(drop_out_2))\n",
    "\n",
    "model.add(Conv2D(n_cov3_filter,n_kernel_3,strides=(2,2),padding='same',activation='relu'))\n",
    "model.add(Conv2D(n_cov3_filter,n_kernel_3,strides=(1,1),padding='same',activation='relu'))\n",
    "#model.add(MaxPool2D(pool_size=(2,2)))\n",
    "model.add(Dropout(drop_out_2))\n",
    "\n",
    "model.add(Flatten())\n",
    "\n",
    "model.add(Dense(n_dense_1,activation='relu'))\n",
    "model.add(Dense(n_dense_1,activation='relu'))\n",
    "\n",
    "model.add(Dense(101,activation='softmax'))\n"
   ]
  },
  {
   "cell_type": "code",
   "execution_count": 76,
   "metadata": {
    "collapsed": false
   },
   "outputs": [
    {
     "name": "stdout",
     "output_type": "stream",
     "text": [
      "_________________________________________________________________\n",
      "Layer (type)                 Output Shape              Param #   \n",
      "=================================================================\n",
      "zero_padding2d_16 (ZeroPaddi (None, 34, 34, 1)         0         \n",
      "_________________________________________________________________\n",
      "conv2d_117 (Conv2D)          (None, 34, 34, 32)        320       \n",
      "_________________________________________________________________\n",
      "conv2d_118 (Conv2D)          (None, 34, 34, 32)        9248      \n",
      "_________________________________________________________________\n",
      "max_pooling2d_64 (MaxPooling (None, 17, 17, 32)        0         \n",
      "_________________________________________________________________\n",
      "dropout_55 (Dropout)         (None, 17, 17, 32)        0         \n",
      "_________________________________________________________________\n",
      "conv2d_119 (Conv2D)          (None, 17, 17, 64)        18496     \n",
      "_________________________________________________________________\n",
      "conv2d_120 (Conv2D)          (None, 17, 17, 64)        36928     \n",
      "_________________________________________________________________\n",
      "max_pooling2d_65 (MaxPooling (None, 8, 8, 64)          0         \n",
      "_________________________________________________________________\n",
      "dropout_56 (Dropout)         (None, 8, 8, 64)          0         \n",
      "_________________________________________________________________\n",
      "conv2d_121 (Conv2D)          (None, 4, 4, 256)         147712    \n",
      "_________________________________________________________________\n",
      "conv2d_122 (Conv2D)          (None, 4, 4, 256)         590080    \n",
      "_________________________________________________________________\n",
      "dropout_57 (Dropout)         (None, 4, 4, 256)         0         \n",
      "_________________________________________________________________\n",
      "flatten_5 (Flatten)          (None, 4096)              0         \n",
      "_________________________________________________________________\n",
      "dense_20 (Dense)             (None, 256)               1048832   \n",
      "_________________________________________________________________\n",
      "dense_21 (Dense)             (None, 256)               65792     \n",
      "_________________________________________________________________\n",
      "dense_22 (Dense)             (None, 101)               25957     \n",
      "=================================================================\n",
      "Total params: 1,943,365\n",
      "Trainable params: 1,943,365\n",
      "Non-trainable params: 0\n",
      "_________________________________________________________________\n"
     ]
    }
   ],
   "source": [
    "model.summary()"
   ]
  },
  {
   "cell_type": "code",
   "execution_count": 78,
   "metadata": {
    "collapsed": true
   },
   "outputs": [],
   "source": [
    "opt = keras.optimizers.rmsprop(lr=0.0001, decay=1e-6)"
   ]
  },
  {
   "cell_type": "code",
   "execution_count": 79,
   "metadata": {
    "collapsed": true
   },
   "outputs": [],
   "source": [
    "model.compile(optimizer=opt,loss='categorical_crossentropy',metrics=['accuracy'])"
   ]
  },
  {
   "cell_type": "code",
   "execution_count": 80,
   "metadata": {
    "collapsed": true
   },
   "outputs": [],
   "source": [
    "loss_history={}"
   ]
  },
  {
   "cell_type": "code",
   "execution_count": 81,
   "metadata": {
    "collapsed": false
   },
   "outputs": [
    {
     "name": "stdout",
     "output_type": "stream",
     "text": [
      "Train on 10099 samples, validate on 1000 samples\n",
      "Epoch 1/10\n",
      "10099/10099 [==============================] - 103s 10ms/step - loss: 4.6167 - acc: 0.0084 - val_loss: 4.6136 - val_acc: 0.0070\n",
      "Epoch 2/10\n",
      "10099/10099 [==============================] - 101s 10ms/step - loss: 4.6142 - acc: 0.0103 - val_loss: 4.6083 - val_acc: 0.0140\n",
      "Epoch 3/10\n",
      "10099/10099 [==============================] - 125s 12ms/step - loss: 4.6146 - acc: 0.0112 - val_loss: 4.6050 - val_acc: 0.0100\n",
      "Epoch 4/10\n",
      "10099/10099 [==============================] - 119s 12ms/step - loss: 4.6118 - acc: 0.0106 - val_loss: 4.6018 - val_acc: 0.0140\n",
      "Epoch 5/10\n",
      "10099/10099 [==============================] - 112s 11ms/step - loss: 4.6108 - acc: 0.0123 - val_loss: 4.6013 - val_acc: 0.0130\n",
      "Epoch 6/10\n",
      "10099/10099 [==============================] - 123s 12ms/step - loss: 4.6127 - acc: 0.0125 - val_loss: 4.6011 - val_acc: 0.0090\n",
      "Epoch 7/10\n",
      "10099/10099 [==============================] - 132s 13ms/step - loss: 4.6152 - acc: 0.0127 - val_loss: 4.5969 - val_acc: 0.0150\n",
      "Epoch 8/10\n",
      "10099/10099 [==============================] - 136s 13ms/step - loss: 4.6180 - acc: 0.0114 - val_loss: 4.5956 - val_acc: 0.0180\n",
      "Epoch 9/10\n",
      "10099/10099 [==============================] - 133s 13ms/step - loss: 4.6201 - acc: 0.0155 - val_loss: 4.5916 - val_acc: 0.0140\n",
      "Epoch 10/10\n",
      "10099/10099 [==============================] - 130s 13ms/step - loss: 4.6197 - acc: 0.0155 - val_loss: 4.5934 - val_acc: 0.0130\n"
     ]
    },
    {
     "data": {
      "text/plain": [
       "<keras.callbacks.History at 0x12b3e160>"
      ]
     },
     "execution_count": 81,
     "metadata": {},
     "output_type": "execute_result"
    }
   ],
   "source": [
    "model.fit(xtrain,ytrain,batch_size=256,epochs=10,validation_data=(xtest,ytest),shuffle='batch')"
   ]
  },
  {
   "cell_type": "code",
   "execution_count": 93,
   "metadata": {
    "collapsed": false
   },
   "outputs": [],
   "source": [
    "image_test=h5py.File('Test/food_test_c101_n1000_r32x32x1.h5','r')\n",
    "label_test=h5py.File('Test/food_test_c101_n1000_r32x32x1.h5','r')"
   ]
  },
  {
   "cell_type": "code",
   "execution_count": 99,
   "metadata": {
    "collapsed": false
   },
   "outputs": [],
   "source": [
    "im_images=image_test['images'][0:16]\n",
    "im_cate=label_test['category'][0:16]"
   ]
  },
  {
   "cell_type": "code",
   "execution_count": 123,
   "metadata": {
    "collapsed": false
   },
   "outputs": [
    {
     "data": {
      "text/plain": [
       "array([[-0.80314961, -0.78740157, -0.7480315 , ...,  0.77165354,\n",
       "         0.60629921,  0.61417323],\n",
       "       [-0.75590551, -0.74015748, -0.74015748, ...,  0.7480315 ,\n",
       "         0.68503937,  0.7007874 ],\n",
       "       [-0.76377953, -0.7007874 , -0.77165354, ...,  0.76377953,\n",
       "         0.72440945,  0.75590551],\n",
       "       ..., \n",
       "       [-0.35433071, -0.53543307, -0.46456693, ..., -0.5511811 ,\n",
       "        -0.58267717, -0.59055118],\n",
       "       [-0.34645669, -0.31496063, -0.51968504, ..., -0.56692913,\n",
       "        -0.61417323, -0.71653543],\n",
       "       [-0.33858268, -0.4015748 , -0.51181102, ..., -0.48818898,\n",
       "        -0.58267717, -0.56692913]])"
      ]
     },
     "execution_count": 123,
     "metadata": {},
     "output_type": "execute_result"
    }
   ],
   "source": [
    "im_images[0][:,:,0]"
   ]
  },
  {
   "cell_type": "code",
   "execution_count": 133,
   "metadata": {
    "collapsed": false
   },
   "outputs": [
    {
     "data": {
      "text/plain": [
       "<matplotlib.image.AxesImage at 0x19d692b0>"
      ]
     },
     "execution_count": 133,
     "metadata": {},
     "output_type": "execute_result"
    },
    {
     "data": {
      "image/png": "[encoded data removed]",
      "text/plain": [
       "<matplotlib.figure.Figure at 0x19cf9eb8>"
      ]
     },
     "metadata": {},
     "output_type": "display_data"
    }
   ],
   "source": [
    "plt.imshow(im_images[1][:,:,0])"
   ]
  },
  {
   "cell_type": "code",
   "execution_count": 149,
   "metadata": {
    "collapsed": false
   },
   "outputs": [],
   "source": [
    "cat_name=label_test['category_names']"
   ]
  },
  {
   "cell_type": "code",
   "execution_count": 131,
   "metadata": {
    "collapsed": false
   },
   "outputs": [],
   "source": [
    "pred=model.predict(im_images)"
   ]
  },
  {
   "cell_type": "code",
   "execution_count": 136,
   "metadata": {
    "collapsed": false
   },
   "outputs": [],
   "source": [
    "pred=np.argmax(pred,axis=1)"
   ]
  },
  {
   "cell_type": "code",
   "execution_count": 139,
   "metadata": {
    "collapsed": false
   },
   "outputs": [
    {
     "data": {
      "text/plain": [
       "65"
      ]
     },
     "execution_count": 139,
     "metadata": {},
     "output_type": "execute_result"
    }
   ],
   "source": [
    "pred[7]"
   ]
  },
  {
   "cell_type": "code",
   "execution_count": 151,
   "metadata": {
    "collapsed": false
   },
   "outputs": [
    {
     "data": {
      "text/plain": [
       "b'beet_salad'"
      ]
     },
     "execution_count": 151,
     "metadata": {},
     "output_type": "execute_result"
    }
   ],
   "source": [
    "#actual label\n",
    "cat_name[np.argmax(im_cate[7])]"
   ]
  },
  {
   "cell_type": "code",
   "execution_count": 150,
   "metadata": {
    "collapsed": false
   },
   "outputs": [
    {
     "data": {
      "text/plain": [
       "b'mussels'"
      ]
     },
     "execution_count": 150,
     "metadata": {},
     "output_type": "execute_result"
    }
   ],
   "source": [
    "#predicted\n",
    "cat_name[pred[7]]"
   ]
  },
  {
   "cell_type": "code",
   "execution_count": 153,
   "metadata": {
    "collapsed": false
   },
   "outputs": [
    {
     "data": {
      "text/plain": [
       "<function matplotlib.pyplot.show>"
      ]
     },
     "execution_count": 153,
     "metadata": {},
     "output_type": "execute_result"
    },
    {
     "data": {
      "image/png": "[encoded data removed]",
      "text/plain": [
       "<matplotlib.figure.Figure at 0x1a208710>"
      ]
     },
     "metadata": {},
     "output_type": "display_data"
    }
   ],
   "source": [
    "plt.imshow(im_images[7][:,:,0])\n",
    "plt.show"
   ]
  },
  {
   "cell_type": "code",
   "execution_count": null,
   "metadata": {
    "collapsed": true
   },
   "outputs": [],
   "source": []
  }
 ],
 "metadata": {
  "anaconda-cloud": {},
  "kernelspec": {
   "display_name": "Python [conda env:tensorflow]",
   "language": "python",
   "name": "conda-env-tensorflow-py"
  },
  "language_info": {
   "codemirror_mode": {
    "name": "ipython",
    "version": 3
   },
   "file_extension": ".py",
   "mimetype": "text/x-python",
   "name": "python",
   "nbconvert_exporter": "python",
   "pygments_lexer": "ipython3",
   "version": "3.5.4"
  }
 },
 "nbformat": 4,
 "nbformat_minor": 2
}
